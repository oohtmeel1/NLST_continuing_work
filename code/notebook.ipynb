{
 "cells": [
  {
   "cell_type": "code",
   "execution_count": 1,
   "metadata": {},
   "outputs": [
    {
     "name": "stderr",
     "output_type": "stream",
     "text": [
      "c:\\Users\\amcfa\\Desktop\\NLST_additional\\.venv\\Lib\\site-packages\\tqdm\\auto.py:21: TqdmWarning: IProgress not found. Please update jupyter and ipywidgets. See https://ipywidgets.readthedocs.io/en/stable/user_install.html\n",
      "  from .autonotebook import tqdm as notebook_tqdm\n"
     ]
    }
   ],
   "source": [
    "from PIL import Image\n",
    "import pydicom\n",
    "import torch\n",
    "import numpy as np\n",
    "from PIL import Image\n",
    "import torch\n",
    "import os\n",
    "import torchvision.transforms as T\n",
    "device = torch.device('cuda') \n",
    "from torch.utils.data import DataLoader\n",
    "\n"
   ]
  },
  {
   "cell_type": "code",
   "execution_count": 2,
   "metadata": {},
   "outputs": [],
   "source": [
    "img_transforms = T.Compose([T.Resize((512,512), interpolation=2),T.RandomHorizontalFlip(p=0.5)\n",
    "                            , T.RandomRotation(12), T.RandomVerticalFlip(p=0.5),\n",
    "                            T.ToTensor()])"
   ]
  },
  {
   "cell_type": "code",
   "execution_count": 3,
   "metadata": {},
   "outputs": [],
   "source": [
    "import torch\n",
    "from torch.utils.data import Dataset\n",
    "\n",
    "from torchvision.transforms import ToTensor\n",
    "\n",
    "import os\n",
    "import pandas as pd\n",
    "from torchvision.io import read_image\n",
    "import pandas as pd\n",
    "import numpy as np\n",
    "\n",
    "\n",
    "\n",
    "\n",
    "class Loading_train(Dataset):\n",
    "    \n",
    "    def __init__(self):\n",
    "        \"\"\"\n",
    "        This should load everything from the directory that matches the test df\n",
    "        \"\"\"\n",
    "        #Define dataset\n",
    "        self.selected_dataset_dir = os.path.join(os.path.join(os.getcwd()+'//together'))\n",
    "        self.all_filenames = os.listdir(self.selected_dataset_dir)\n",
    "        self.all_labels = pd.read_csv(os.path.join(os.getcwd()+'/df_train1.csv'))\n",
    "        self.all_filenames = [file for file in self.all_labels['id'] if file in self.all_filenames]\n",
    "        self.label_meanings = self.all_labels.columns.values.tolist()\n",
    "    def __len__(self):\n",
    "        return len(self.all_filenames)\n",
    "        \n",
    "    def __getitem__(self, idx):\n",
    "        #Loads the image files and reads their labels\n",
    "        selected_filename = self.all_filenames[idx]\n",
    "        imagepil = Image.open(os.path.join(self.selected_dataset_dir,selected_filename))\n",
    "        \n",
    "        image = img_transforms(imagepil)\n",
    "        self.all_labels = pd.read_csv(os.path.join(os.getcwd()+'/df_train1.csv'))\n",
    "        label= self.all_labels['label'][idx]\n",
    "    \n",
    "        \n",
    "        sample = {'data':image, #preprocessed image, for input into NN\n",
    "                'label':label,\n",
    "                'img_idx':idx, 'sample_name':selected_filename}\n",
    "        return(sample) "
   ]
  },
  {
   "cell_type": "code",
   "execution_count": 4,
   "metadata": {},
   "outputs": [],
   "source": [
    "\n",
    "class Loading_val(Dataset):\n",
    "    \n",
    "    def __init__(self):\n",
    "        \"\"\"\n",
    "        This should load everything from the directory that matches the test df\n",
    "        \"\"\"\n",
    "        #Define dataset\n",
    "        self.selected_dataset_dir = os.path.join(os.path.join(os.getcwd()+'//together'))\n",
    "        self.all_filenames = os.listdir(self.selected_dataset_dir)\n",
    "        self.all_labels = pd.read_csv(os.path.join(os.getcwd()+'/df_val1.csv'))\n",
    "        self.all_filenames = [file for file in self.all_labels['id'] if file in self.all_filenames]\n",
    "        self.label_meanings = self.all_labels.columns.values.tolist()\n",
    "    def __len__(self):\n",
    "        return len(self.all_filenames)\n",
    "        \n",
    "    def __getitem__(self, idx):\n",
    "        #Loads the image files and reads their labels\n",
    "        selected_filename = self.all_filenames[idx]\n",
    "        imagepil = Image.open(os.path.join(self.selected_dataset_dir,selected_filename))\n",
    "        \n",
    "        image = img_transforms(imagepil)\n",
    "        self.all_labels = pd.read_csv(os.path.join(os.getcwd()+'/df_val1.csv'))\n",
    "        label= self.all_labels['label'][idx]\n",
    "    \n",
    "        \n",
    "        sample = {'data':image, #preprocessed image, for input into NN\n",
    "                'label':label,\n",
    "                'img_idx':idx, 'sample_name':selected_filename}\n",
    "        return(sample) "
   ]
  },
  {
   "cell_type": "code",
   "execution_count": 5,
   "metadata": {},
   "outputs": [],
   "source": [
    "\n",
    "class Loading_test(Dataset):\n",
    "    \n",
    "    def __init__(self):\n",
    "        \"\"\"\n",
    "        This should load everything from the directory that matches the test df\n",
    "        \"\"\"\n",
    "        #Define dataset\n",
    "        self.selected_dataset_dir = os.path.join(os.path.join(os.getcwd()+'//together'))\n",
    "        self.all_filenames = os.listdir(self.selected_dataset_dir)\n",
    "        self.all_labels = pd.read_csv(os.path.join(os.getcwd()+'/df_test1.csv'))\n",
    "        self.all_filenames = [file for file in self.all_labels['id'] if file in self.all_filenames]\n",
    "        self.label_meanings = self.all_labels.columns.values.tolist()\n",
    "    def __len__(self):\n",
    "        return len(self.all_filenames)\n",
    "        \n",
    "    def __getitem__(self, idx):\n",
    "        #Loads the image files and reads their labels\n",
    "        selected_filename = self.all_filenames[idx]\n",
    "        imagepil = Image.open(os.path.join(self.selected_dataset_dir,selected_filename))\n",
    "        \n",
    "        image = img_transforms(imagepil)\n",
    "        self.all_labels = pd.read_csv(os.path.join(os.getcwd()+'/df_test1.csv'))\n",
    "        label= self.all_labels['label'][idx]\n",
    "    \n",
    "        \n",
    "        sample = {'data':image, #preprocessed image, for input into NN\n",
    "                'label':label,\n",
    "                'img_idx':idx, 'sample_name':selected_filename}\n",
    "        return(sample) "
   ]
  },
  {
   "cell_type": "code",
   "execution_count": 7,
   "metadata": {},
   "outputs": [],
   "source": [
    "device = torch.device('cuda') "
   ]
  },
  {
   "cell_type": "code",
   "execution_count": 8,
   "metadata": {},
   "outputs": [
    {
     "name": "stdout",
     "output_type": "stream",
     "text": [
      "2.1.0+cu121\n"
     ]
    }
   ],
   "source": [
    "import torch\n",
    "print(torch.__version__)"
   ]
  },
  {
   "cell_type": "code",
   "execution_count": 11,
   "metadata": {},
   "outputs": [],
   "source": [
    "import torch.nn as nn\n",
    "import torch.nn.functional as F\n",
    "\n",
    "\n",
    "class Modelo(nn.Module):\n",
    "    def __init__(self):\n",
    "        super(Modelo, self).__init__()\n",
    "        self.conv = nn.Sequential(\n",
    "        nn.Conv2d(1, 20, kernel_size = (1,1)),\n",
    "        nn.Conv2d(20, 50, kernel_size = (1,1)),\n",
    "        nn.Conv2d(50, 50, kernel_size = (1,1)),\n",
    "        nn.Conv2d(50, 50, kernel_size = (1,1)),\n",
    "        nn.Conv2d(50, 50, kernel_size = (1,1)),\n",
    "        nn.Conv2d(50, 20, kernel_size = (1,1)),\n",
    "        nn.Conv2d(20, 20, kernel_size = (1,1)),\n",
    "        nn.Conv2d(20, 10, kernel_size = (1,1)),\n",
    "        torch.nn.BatchNorm2d(10),\n",
    "        nn.Dropout(p=0.05),\n",
    "        nn.LeakyReLU(inplace=True),\n",
    "        nn.Conv2d(10, 10, kernel_size = (1,1)),\n",
    "        nn.Conv2d(10, 10, kernel_size = (1,1)),\n",
    "        nn.Conv2d(10, 10, kernel_size = (1,1)),\n",
    "        nn.Conv2d(10, 10, kernel_size = (1,1)),\n",
    "        nn.Conv2d(10, 10, kernel_size = (1,1)),\n",
    "        nn.Conv2d(10, 5, kernel_size = (1,1)),\n",
    "        nn.Conv2d(5, 4, kernel_size = (1,1)),\n",
    "        torch.nn.BatchNorm2d(4), \n",
    "        nn.LeakyReLU(inplace=True),\n",
    "        nn.Dropout(p=0.05),\n",
    "        torch.nn.MaxPool2d((2, 2)), \n",
    "        nn.Conv2d(4, 3, kernel_size = (1,1)),\n",
    "        nn.Dropout(p=0.05), \n",
    "        torch.nn.MaxPool2d((2, 2)),    \n",
    "        nn.Conv2d(3, 2, kernel_size = (1,1)),\n",
    "        torch.nn.MaxPool2d((2, 2)), \n",
    "        torch.nn.BatchNorm2d(2))\n",
    "        self.fc = nn.Linear(in_features=8192,out_features=4096)\n",
    "        self.fc1 = nn.Linear(in_features=4096,out_features=1)\n",
    "\n",
    "\n",
    "    def forward(self, x):\n",
    "        x= self.conv(x)\n",
    "        #x = F.max_pool2d(F.relu(self.conv(x)),4,4)\n",
    "        #x = F.max_pool2d(F.relu(self.conv1(x)),2,2)\n",
    "        #x = F.max_pool2d(F.relu(self.conv2(x)),2)\n",
    "        x = torch.flatten(x,start_dim=1,end_dim=-1)\n",
    "        x=self.fc(x)\n",
    "        x=self.fc1(x)\n",
    "       # x=self.fc1(x)\n",
    "        return x\n",
    "\n",
    "\n",
    "model = Modelo()"
   ]
  },
  {
   "cell_type": "code",
   "execution_count": 12,
   "metadata": {},
   "outputs": [
    {
     "data": {
      "text/plain": [
       "Modelo(\n",
       "  (conv): Sequential(\n",
       "    (0): Conv2d(1, 20, kernel_size=(1, 1), stride=(1, 1))\n",
       "    (1): Conv2d(20, 50, kernel_size=(1, 1), stride=(1, 1))\n",
       "    (2): Conv2d(50, 50, kernel_size=(1, 1), stride=(1, 1))\n",
       "    (3): Conv2d(50, 50, kernel_size=(1, 1), stride=(1, 1))\n",
       "    (4): Conv2d(50, 50, kernel_size=(1, 1), stride=(1, 1))\n",
       "    (5): Conv2d(50, 20, kernel_size=(1, 1), stride=(1, 1))\n",
       "    (6): Conv2d(20, 20, kernel_size=(1, 1), stride=(1, 1))\n",
       "    (7): Conv2d(20, 10, kernel_size=(1, 1), stride=(1, 1))\n",
       "    (8): BatchNorm2d(10, eps=1e-05, momentum=0.1, affine=True, track_running_stats=True)\n",
       "    (9): Dropout(p=0.05, inplace=False)\n",
       "    (10): LeakyReLU(negative_slope=0.01, inplace=True)\n",
       "    (11): Conv2d(10, 10, kernel_size=(1, 1), stride=(1, 1))\n",
       "    (12): Conv2d(10, 10, kernel_size=(1, 1), stride=(1, 1))\n",
       "    (13): Conv2d(10, 10, kernel_size=(1, 1), stride=(1, 1))\n",
       "    (14): Conv2d(10, 10, kernel_size=(1, 1), stride=(1, 1))\n",
       "    (15): Conv2d(10, 10, kernel_size=(1, 1), stride=(1, 1))\n",
       "    (16): Conv2d(10, 5, kernel_size=(1, 1), stride=(1, 1))\n",
       "    (17): Conv2d(5, 4, kernel_size=(1, 1), stride=(1, 1))\n",
       "    (18): BatchNorm2d(4, eps=1e-05, momentum=0.1, affine=True, track_running_stats=True)\n",
       "    (19): LeakyReLU(negative_slope=0.01, inplace=True)\n",
       "    (20): Dropout(p=0.05, inplace=False)\n",
       "    (21): MaxPool2d(kernel_size=(2, 2), stride=(2, 2), padding=0, dilation=1, ceil_mode=False)\n",
       "    (22): Conv2d(4, 3, kernel_size=(1, 1), stride=(1, 1))\n",
       "    (23): Dropout(p=0.05, inplace=False)\n",
       "    (24): MaxPool2d(kernel_size=(2, 2), stride=(2, 2), padding=0, dilation=1, ceil_mode=False)\n",
       "    (25): Conv2d(3, 2, kernel_size=(1, 1), stride=(1, 1))\n",
       "    (26): MaxPool2d(kernel_size=(2, 2), stride=(2, 2), padding=0, dilation=1, ceil_mode=False)\n",
       "    (27): BatchNorm2d(2, eps=1e-05, momentum=0.1, affine=True, track_running_stats=True)\n",
       "  )\n",
       "  (fc): Linear(in_features=8192, out_features=4096, bias=True)\n",
       "  (fc1): Linear(in_features=4096, out_features=1, bias=True)\n",
       ")"
      ]
     },
     "execution_count": 12,
     "metadata": {},
     "output_type": "execute_result"
    }
   ],
   "source": [
    "model.to(device)"
   ]
  },
  {
   "cell_type": "code",
   "execution_count": 13,
   "metadata": {},
   "outputs": [],
   "source": [
    "loss_fn_=nn.BCEWithLogitsLoss()\n",
    "optimizer = torch.optim.AdamW(model.parameters(), lr= 1.76864110205491e-05)"
   ]
  },
  {
   "cell_type": "code",
   "execution_count": 14,
   "metadata": {},
   "outputs": [
    {
     "name": "stdout",
     "output_type": "stream",
     "text": [
      "----------------------------------------------------------------\n",
      "        Layer (type)               Output Shape         Param #\n",
      "================================================================\n",
      "            Conv2d-1         [-1, 20, 512, 512]              40\n",
      "            Conv2d-2         [-1, 50, 512, 512]           1,050\n",
      "            Conv2d-3         [-1, 50, 512, 512]           2,550\n",
      "            Conv2d-4         [-1, 50, 512, 512]           2,550\n",
      "            Conv2d-5         [-1, 50, 512, 512]           2,550\n",
      "            Conv2d-6         [-1, 20, 512, 512]           1,020\n",
      "            Conv2d-7         [-1, 20, 512, 512]             420\n",
      "            Conv2d-8         [-1, 10, 512, 512]             210\n",
      "       BatchNorm2d-9         [-1, 10, 512, 512]              20\n",
      "          Dropout-10         [-1, 10, 512, 512]               0\n",
      "        LeakyReLU-11         [-1, 10, 512, 512]               0\n",
      "           Conv2d-12         [-1, 10, 512, 512]             110\n",
      "           Conv2d-13         [-1, 10, 512, 512]             110\n",
      "           Conv2d-14         [-1, 10, 512, 512]             110\n",
      "           Conv2d-15         [-1, 10, 512, 512]             110\n",
      "           Conv2d-16         [-1, 10, 512, 512]             110\n",
      "           Conv2d-17          [-1, 5, 512, 512]              55\n",
      "           Conv2d-18          [-1, 4, 512, 512]              24\n",
      "      BatchNorm2d-19          [-1, 4, 512, 512]               8\n",
      "        LeakyReLU-20          [-1, 4, 512, 512]               0\n",
      "          Dropout-21          [-1, 4, 512, 512]               0\n",
      "        MaxPool2d-22          [-1, 4, 256, 256]               0\n",
      "           Conv2d-23          [-1, 3, 256, 256]              15\n",
      "          Dropout-24          [-1, 3, 256, 256]               0\n",
      "        MaxPool2d-25          [-1, 3, 128, 128]               0\n",
      "           Conv2d-26          [-1, 2, 128, 128]               8\n",
      "        MaxPool2d-27            [-1, 2, 64, 64]               0\n",
      "      BatchNorm2d-28            [-1, 2, 64, 64]               4\n",
      "           Linear-29                 [-1, 4096]      33,558,528\n",
      "           Linear-30                    [-1, 1]           4,097\n",
      "================================================================\n",
      "Total params: 33,573,699\n",
      "Trainable params: 33,573,699\n",
      "Non-trainable params: 0\n",
      "----------------------------------------------------------------\n",
      "Input size (MB): 1.00\n",
      "Forward/backward pass size (MB): 747.78\n",
      "Params size (MB): 128.07\n",
      "Estimated Total Size (MB): 876.85\n",
      "----------------------------------------------------------------\n",
      "None\n"
     ]
    }
   ],
   "source": [
    "from torchvision import models\n",
    "from torchsummary import summary\n",
    "\n",
    "\n",
    "print(summary(model, (1, 512, 512)))"
   ]
  },
  {
   "cell_type": "code",
   "execution_count": 15,
   "metadata": {},
   "outputs": [],
   "source": [
    "training1=Loading_train()\n",
    "val1=Loading_val()\n",
    "test1=Loading_test()\n",
    "\n",
    "\n",
    "train_dataloader = DataLoader(training1, batch_size=16, shuffle=True)\n",
    "val_dataloader = DataLoader(val1, batch_size=16, shuffle=True)\n"
   ]
  },
  {
   "cell_type": "code",
   "execution_count": 16,
   "metadata": {},
   "outputs": [],
   "source": [
    "test_dataloader = DataLoader(test1, batch_size=16, shuffle=True)"
   ]
  },
  {
   "cell_type": "code",
   "execution_count": 22,
   "metadata": {},
   "outputs": [],
   "source": [
    "from torchvision.transforms import v2\n",
    "from torch.utils.data import Dataset\n",
    "from torchvision.transforms import ToTensor\n",
    "from torchvision.io import read_image\n",
    "from torch import nn\n",
    "from torch.utils.data import DataLoader\n",
    "from torchvision.transforms import Compose, Normalize, ToTensor\n",
    "from ignite.engine import Engine, Events, create_supervised_trainer, create_supervised_evaluator\n",
    "from ignite.metrics import Accuracy, Loss\n",
    "from ignite.handlers import ModelCheckpoint\n",
    "from ignite.contrib.handlers import TensorboardLogger, global_step_from_engine\n",
    "from ignite.handlers import Timer, BasicTimeProfiler, HandlersTimeProfiler\n",
    "from torch.optim.lr_scheduler import ExponentialLR\n",
    "from torch.optim.lr_scheduler import LinearLR\n",
    "torch_lr_scheduler = LinearLR(optimizer=optimizer,start_factor=0.0005, end_factor=1.76864110205491e-05)\n",
    "from ignite.handlers import create_lr_scheduler_with_warmup\n",
    "from ignite.engine import Engine, Events, create_supervised_trainer, create_supervised_evaluator"
   ]
  },
  {
   "cell_type": "code",
   "execution_count": 24,
   "metadata": {},
   "outputs": [
    {
     "name": "stdout",
     "output_type": "stream",
     "text": [
      "Epoch: 1,  Accuracy: 0.5,  Precision: 0.0, recall: 0.5\n",
      "Epoch: 2,  Accuracy: 0.5,  Precision: 0.5, recall: 0.5\n",
      "Epoch 3/60 : 1000 - batch loss: 0.7062300443649292, lr: 8.84320551027455e-09\n",
      "Epoch: 3,  Accuracy: 0.5,  Precision: 0.5, recall: 0.5\n"
     ]
    },
    {
     "name": "stderr",
     "output_type": "stream",
     "text": [
      "Engine run is terminating due to exception: \n"
     ]
    },
    {
     "name": "stdout",
     "output_type": "stream",
     "text": [
      "Unexpected exception formatting exception. Falling back to standard exception\n"
     ]
    },
    {
     "name": "stderr",
     "output_type": "stream",
     "text": [
      "Traceback (most recent call last):\n",
      "  File \"c:\\Users\\amcfa\\Desktop\\NLST_additional\\.venv\\Lib\\site-packages\\IPython\\core\\interactiveshell.py\", line 3577, in run_code\n",
      "    exec(code_obj, self.user_global_ns, self.user_ns)\n",
      "  File \"C:\\Users\\amcfa\\AppData\\Local\\Temp\\ipykernel_21092\\2365512437.py\", line 125, in <module>\n",
      "    trainer.run(train_dataloader, max_epochs=60)\n",
      "  File \"c:\\Users\\amcfa\\Desktop\\NLST_additional\\.venv\\Lib\\site-packages\\ignite\\engine\\engine.py\", line 889, in run\n",
      "    return self._internal_run()\n",
      "           ^^^^^^^^^^^^^^^^^^^^\n",
      "  File \"c:\\Users\\amcfa\\Desktop\\NLST_additional\\.venv\\Lib\\site-packages\\ignite\\engine\\engine.py\", line 932, in _internal_run\n",
      "    return next(self._internal_run_generator)\n",
      "           ^^^^^^^^^^^^^^^^^^^^^^^^^^^^^^^^^^\n",
      "  File \"c:\\Users\\amcfa\\Desktop\\NLST_additional\\.venv\\Lib\\site-packages\\ignite\\engine\\engine.py\", line 990, in _internal_run_as_gen\n",
      "    self._handle_exception(e)\n",
      "  File \"c:\\Users\\amcfa\\Desktop\\NLST_additional\\.venv\\Lib\\site-packages\\ignite\\engine\\engine.py\", line 644, in _handle_exception\n",
      "    raise e\n",
      "  File \"c:\\Users\\amcfa\\Desktop\\NLST_additional\\.venv\\Lib\\site-packages\\ignite\\engine\\engine.py\", line 956, in _internal_run_as_gen\n",
      "    epoch_time_taken += yield from self._run_once_on_dataset_as_gen()\n",
      "                        ^^^^^^^^^^^^^^^^^^^^^^^^^^^^^^^^^^^^^^^^^^^^^\n",
      "  File \"c:\\Users\\amcfa\\Desktop\\NLST_additional\\.venv\\Lib\\site-packages\\ignite\\engine\\engine.py\", line 1033, in _run_once_on_dataset_as_gen\n",
      "    self.state.batch = next(self._dataloader_iter)\n",
      "                       ^^^^^^^^^^^^^^^^^^^^^^^^^^^\n",
      "  File \"c:\\Users\\amcfa\\Desktop\\NLST_additional\\.venv\\Lib\\site-packages\\torch\\utils\\data\\dataloader.py\", line 630, in __next__\n",
      "    data = self._next_data()\n",
      "           ^^^^^^^^^^^^^^^^^\n",
      "  File \"c:\\Users\\amcfa\\Desktop\\NLST_additional\\.venv\\Lib\\site-packages\\torch\\utils\\data\\dataloader.py\", line 674, in _next_data\n",
      "    data = self._dataset_fetcher.fetch(index)  # may raise StopIteration\n",
      "           ^^^^^^^^^^^^^^^^^^^^^^^^^^^^^^^^^^\n",
      "  File \"c:\\Users\\amcfa\\Desktop\\NLST_additional\\.venv\\Lib\\site-packages\\torch\\utils\\data\\_utils\\fetch.py\", line 51, in fetch\n",
      "    data = [self.dataset[idx] for idx in possibly_batched_index]\n",
      "           ^^^^^^^^^^^^^^^^^^^^^^^^^^^^^^^^^^^^^^^^^^^^^^^^^^^^^\n",
      "  File \"c:\\Users\\amcfa\\Desktop\\NLST_additional\\.venv\\Lib\\site-packages\\torch\\utils\\data\\_utils\\fetch.py\", line 51, in <listcomp>\n",
      "    data = [self.dataset[idx] for idx in possibly_batched_index]\n",
      "            ~~~~~~~~~~~~^^^^^\n",
      "  File \"C:\\Users\\amcfa\\AppData\\Local\\Temp\\ipykernel_21092\\1648617441.py\", line 35, in __getitem__\n",
      "    image = img_transforms(imagepil)\n",
      "            ^^^^^^^^^^^^^^^^^^^^^^^^\n",
      "  File \"c:\\Users\\amcfa\\Desktop\\NLST_additional\\.venv\\Lib\\site-packages\\torchvision\\transforms\\transforms.py\", line 95, in __call__\n",
      "    img = t(img)\n",
      "          ^^^^^^\n",
      "  File \"c:\\Users\\amcfa\\Desktop\\NLST_additional\\.venv\\Lib\\site-packages\\torch\\nn\\modules\\module.py\", line 1518, in _wrapped_call_impl\n",
      "    return self._call_impl(*args, **kwargs)\n",
      "           ^^^^^^^^^^^^^^^^^^^^^^^^^^^^^^^^\n",
      "  File \"c:\\Users\\amcfa\\Desktop\\NLST_additional\\.venv\\Lib\\site-packages\\torch\\nn\\modules\\module.py\", line 1527, in _call_impl\n",
      "    return forward_call(*args, **kwargs)\n",
      "           ^^^^^^^^^^^^^^^^^^^^^^^^^^^^^\n",
      "  File \"c:\\Users\\amcfa\\Desktop\\NLST_additional\\.venv\\Lib\\site-packages\\torchvision\\transforms\\transforms.py\", line 719, in forward\n",
      "    if torch.rand(1) < self.p:\n",
      "       ^^^^^^^^^^^^^\n",
      "KeyboardInterrupt\n",
      "\n",
      "During handling of the above exception, another exception occurred:\n",
      "\n",
      "Traceback (most recent call last):\n",
      "  File \"c:\\Users\\amcfa\\Desktop\\NLST_additional\\.venv\\Lib\\site-packages\\IPython\\core\\interactiveshell.py\", line 2168, in showtraceback\n",
      "    stb = self.InteractiveTB.structured_traceback(\n",
      "          ^^^^^^^^^^^^^^^^^^^^^^^^^^^^^^^^^^^^^^^^\n",
      "  File \"c:\\Users\\amcfa\\Desktop\\NLST_additional\\.venv\\Lib\\site-packages\\IPython\\core\\ultratb.py\", line 1454, in structured_traceback\n",
      "    return FormattedTB.structured_traceback(\n",
      "           ^^^^^^^^^^^^^^^^^^^^^^^^^^^^^^^^^\n",
      "  File \"c:\\Users\\amcfa\\Desktop\\NLST_additional\\.venv\\Lib\\site-packages\\IPython\\core\\ultratb.py\", line 1345, in structured_traceback\n",
      "    return VerboseTB.structured_traceback(\n",
      "           ^^^^^^^^^^^^^^^^^^^^^^^^^^^^^^^\n",
      "  File \"c:\\Users\\amcfa\\Desktop\\NLST_additional\\.venv\\Lib\\site-packages\\IPython\\core\\ultratb.py\", line 1192, in structured_traceback\n",
      "    formatted_exception = self.format_exception_as_a_whole(etype, evalue, etb, number_of_lines_of_context,\n",
      "                          ^^^^^^^^^^^^^^^^^^^^^^^^^^^^^^^^^^^^^^^^^^^^^^^^^^^^^^^^^^^^^^^^^^^^^^^^^^^^^^^^\n",
      "  File \"c:\\Users\\amcfa\\Desktop\\NLST_additional\\.venv\\Lib\\site-packages\\IPython\\core\\ultratb.py\", line 1082, in format_exception_as_a_whole\n",
      "    self.get_records(etb, number_of_lines_of_context, tb_offset) if etb else []\n",
      "    ^^^^^^^^^^^^^^^^^^^^^^^^^^^^^^^^^^^^^^^^^^^^^^^^^^^^^^^^^^^^\n",
      "  File \"c:\\Users\\amcfa\\Desktop\\NLST_additional\\.venv\\Lib\\site-packages\\IPython\\core\\ultratb.py\", line 1134, in get_records\n",
      "    style = stack_data.style_with_executing_node(style, self._tb_highlight)\n",
      "            ^^^^^^^^^^^^^^^^^^^^^^^^^^^^^^^^^^^^^^^^^^^^^^^^^^^^^^^^^^^^^^^\n",
      "  File \"c:\\Users\\amcfa\\Desktop\\NLST_additional\\.venv\\Lib\\site-packages\\stack_data\\core.py\", line 455, in style_with_executing_node\n",
      "    class NewStyle(style):\n",
      "  File \"c:\\Users\\amcfa\\Desktop\\NLST_additional\\.venv\\Lib\\site-packages\\pygments\\style.py\", line 91, in __new__\n",
      "    ndef[4] = colorformat(styledef[3:])\n",
      "              ^^^^^^^^^^^^^^^^^^^^^^^^^\n",
      "  File \"c:\\Users\\amcfa\\Desktop\\NLST_additional\\.venv\\Lib\\site-packages\\pygments\\style.py\", line 58, in colorformat\n",
      "    assert False, \"wrong color format %r\" % text\n",
      "AssertionError: wrong color format 'ansiyellow'\n"
     ]
    }
   ],
   "source": [
    "def update_model(engine, batch):\n",
    "    model.train()\n",
    "    data,label = batch['data'].float(),batch['label']\n",
    "    optimizer.zero_grad()\n",
    "    data=data.to(device)\n",
    "    label=label.to(device)\n",
    "    #print(label.get_device())\n",
    "    #print(data.get_device())\n",
    "    outputs,_=(model(data),label)\n",
    "    outputs=outputs.squeeze()\n",
    "    loss = loss_fn_(outputs, label.float())\n",
    "    loss.backward()\n",
    "    optimizer.step()\n",
    "    return loss.item()\n",
    "\n",
    "trainer = Engine(update_model)\n",
    "\n",
    "\n",
    "val_metrics = {\n",
    "    \"accuracy\": Accuracy(),\n",
    "    \"loss\": Loss(loss_fn_)\n",
    "}\n",
    "\n",
    "\n",
    "def validation_step(engine, batch):\n",
    "    model.eval()\n",
    "    with torch.no_grad():\n",
    "        x, y = batch['data'].float(),batch['label'].float()\n",
    "        x=x.to(device)\n",
    "        y=y.to(device)\n",
    "        outputs,_=(model(x),y)\n",
    "        outputs = outputs.squeeze()\n",
    "        outputs=torch.sigmoid(outputs)\n",
    "        outputs=outputs.cpu().detach()\n",
    "        outputs=outputs.round()\n",
    "        y=y.cpu().detach().long()\n",
    "\n",
    "    return outputs.long(), y\n",
    "    \n",
    "    \n",
    "evaluator = Engine(validation_step)\n",
    "scheduler = create_lr_scheduler_with_warmup(torch_lr_scheduler,\n",
    "                                            warmup_start_value=0.0005,\n",
    "                                            warmup_end_value=1.76864110205491e-05,\n",
    "                                            warmup_duration=2)\n",
    "\n",
    "from ignite.metrics import Accuracy\n",
    "from ignite.metrics import Precision, Recall\n",
    "\n",
    "precision = Precision()\n",
    "\n",
    "\n",
    "Accuracy().attach(evaluator, \"accuracy\")\n",
    "Precision().attach(evaluator,'precision')\n",
    "Recall(average='weighted').attach(evaluator,'recall')\n",
    "\n",
    "\n",
    "    \n",
    "\n",
    "@trainer.on(Events.ITERATION_COMPLETED(every=1000))\n",
    "def log_training(engine):\n",
    "    batch_loss = engine.state.output\n",
    "    lr = optimizer.param_groups[0]['lr']\n",
    "    e = engine.state.epoch\n",
    "    n = engine.state.max_epochs\n",
    "    i = engine.state.iteration\n",
    "    print(\"Epoch {}/{} : {} - batch loss: {}, lr: {}\".format(e, n, i, batch_loss, lr))\n",
    "def print_lr():\n",
    "    print(optimizer.param_groups[0][\"lr\"])\n",
    "    \n",
    "    \n",
    "    \n",
    "    \n",
    "    \n",
    "from ignite.handlers import Timer, BasicTimeProfiler, HandlersTimeProfiler    \n",
    "from ignite.engine import Events\n",
    "\n",
    "validate_every = 1\n",
    "\n",
    "\n",
    "@trainer.on(Events.EPOCH_COMPLETED(every=validate_every))\n",
    "def run_validation():\n",
    "    evaluator.run(val_dataloader)\n",
    "    \n",
    "@trainer.on(Events.EPOCH_COMPLETED(every=validate_every))\n",
    "def log_validation():\n",
    "    ugh=[]\n",
    "    metrics = evaluator.state.metrics\n",
    "    print(f\"Epoch: {trainer.state.epoch},  Accuracy: {metrics['accuracy']},  Precision: {metrics['precision']}, recall: {metrics['recall']}\")\n",
    "\n",
    "\n",
    "def score_function(engine):\n",
    "    return engine.state.metrics[\"accuracy\"]\n",
    "\n",
    "\n",
    "model_checkpoint = ModelCheckpoint(\n",
    "    \"checkpoint\",\n",
    "    n_saved=25,\n",
    "    filename_prefix=\"best\",\n",
    "    score_function=score_function,\n",
    "    score_name=\"accuracy\",\n",
    "    global_step_transform=global_step_from_engine(trainer),\n",
    ")\n",
    "  \n",
    "evaluator.add_event_handler(Events.COMPLETED, model_checkpoint, {\"model\": model})\n",
    "\n",
    "tb_logger = TensorboardLogger(log_dir=\"tb-logger\")\n",
    "\n",
    "tb_logger.attach_output_handler(\n",
    "    trainer,\n",
    "    event_name=Events.ITERATION_COMPLETED(every=1000),\n",
    "    tag=\"training\",\n",
    "    output_transform=lambda loss: {\"batch_loss\": loss},\n",
    ")\n",
    "\n",
    "for tag, evaluator in [(\"training\", trainer), (\"validation\", evaluator)]:\n",
    "    tb_logger.attach_output_handler(\n",
    "        evaluator,\n",
    "        event_name=Events.EPOCH_COMPLETED,\n",
    "        tag=tag,\n",
    "        metric_names=\"all\",\n",
    "        global_step_transform=global_step_from_engine(trainer),\n",
    "    )\n",
    "trainer.add_event_handler(Events.EPOCH_STARTED, scheduler)\n",
    "trainer.run(train_dataloader, max_epochs=60)"
   ]
  },
  {
   "cell_type": "code",
   "execution_count": 67,
   "metadata": {},
   "outputs": [],
   "source": [
    "accuracy10=[]\n",
    "\n",
    "from torcheval.metrics.functional import binary_accuracy\n",
    "from torcheval.metrics.functional.classification import binary_recall\n",
    "from torcheval.metrics.functional.aggregation.auc import auc\n",
    "from torcheval.metrics.functional import binary_precision\n",
    "from torcheval.metrics.functional import binary_accuracy\n",
    "from torcheval.metrics.functional import binary_f1_score\n",
    "from torcheval.metrics.functional.classification import binary_recall\n",
    "from torcheval.metrics.functional import binary_accuracy\n",
    "from sklearn import metrics\n",
    "from sklearn.metrics import roc_curve\n",
    "\n",
    "for j in os.listdir(\"C:\\\\Users\\\\amcfa\\Desktop\\\\NLST_additional\\\\checkpoint\"):\n",
    "    PATH=os.path.join(\"C:\\\\Users\\\\amcfa\\\\Desktop\\\\NLST_additional\\\\checkpoint\",j)\n",
    "    model.load_state_dict(torch.load(PATH))\n",
    "    for i, batch in enumerate(test_dataloader):\n",
    "        model.eval()\n",
    "        data,label = batch['data'].float(),batch['label']\n",
    "        data=data.to(device)\n",
    "        label=label.to(device)\n",
    "        y_logits,label=(model(data),label)\n",
    "        test_pred1=y_logits.squeeze(-1)\n",
    "        test_pred=torch.sigmoid(test_pred1)\n",
    "        test_pred=test_pred.cpu().detach()\n",
    "        test_pred=test_pred.round()\n",
    "        label=label.cpu().detach()\n",
    "        arfs=binary_accuracy(test_pred, label, threshold=0.7)\n",
    "        test_pred2=arfs.cpu.detach().numpy()\n",
    "        f1_score=binary_f1_score(test_pred, label, threshold=0.7)\n",
    "        f1_rec=f1_score.detach().numpy()\n",
    "        ats=binary_recall(test_pred, label, threshold=0.7)\n",
    "        bin_rec=ats.detach().numpy()\n",
    "        prec1=binary_precision(test_pred, label, threshold=0.7)\n",
    "        prec_scr=prec1.detach().numpy()\n",
    "        accuracy10.append([test_pred2,bin_rec,f1_rec,prec_scr,j,test_pred.numpy(),label.numpy()])#bin_rec,f1_rec,prec_scr])\n",
    "        ahh=pd.DataFrame(accuracy10,columns=['Accuracy','Recall','F1','Precision','Model Name','Predictions','Labels'])\n",
    "        ahh.to_csv('results.csv',index=False)\n",
    "        fpr, tpr, threshold = roc_curve(label.float(), test_pred1)\n",
    "        # Plot ROC curve'''"
   ]
  },
  {
   "cell_type": "code",
   "execution_count": 68,
   "metadata": {},
   "outputs": [],
   "source": [
    "ahh=pd.DataFrame(accuracy10)"
   ]
  },
  {
   "cell_type": "code",
   "execution_count": 72,
   "metadata": {},
   "outputs": [],
   "source": [
    "grouped = ahh.groupby(4)"
   ]
  },
  {
   "cell_type": "code",
   "execution_count": 79,
   "metadata": {},
   "outputs": [],
   "source": [
    "binary_accuracy1 = grouped[0].mean()\n",
    "recall = grouped[1].mean()\n",
    "F1 = grouped[2].mean()\n",
    "precision = grouped[3].mean()"
   ]
  },
  {
   "cell_type": "code",
   "execution_count": 93,
   "metadata": {},
   "outputs": [
    {
     "data": {
      "image/png": "[encoded data removed]",
      "text/plain": [
       "<Figure size 1000x500 with 1 Axes>"
      ]
     },
     "metadata": {},
     "output_type": "display_data"
    }
   ],
   "source": [
    "plt.figure(figsize=(10, 5))\n",
    "m = range(25)\n",
    "plt.bar(m, binary_accuracy1, color='green')\n",
    "plt.xlabel('Model number')\n",
    "plt.ylabel('Mean Scores')\n",
    "plt.title('Accuracy Scores for each model')\n",
    "plt.ylim(0.60, 0.80)\n",
    "plt.show()"
   ]
  },
  {
   "cell_type": "code",
   "execution_count": 92,
   "metadata": {},
   "outputs": [
    {
     "data": {
      "image/png": "[encoded data removed]",
      "text/plain": [
       "<Figure size 1000x500 with 1 Axes>"
      ]
     },
     "metadata": {},
     "output_type": "display_data"
    }
   ],
   "source": [
    "plt.figure(figsize=(10, 5))\n",
    "m = range(25)\n",
    "plt.bar(m, recall, color='green')\n",
    "plt.xlabel('Model number')\n",
    "plt.ylabel('Mean Scores')\n",
    "plt.title('Scores for each model for recall')\n",
    "plt.ylim(0.55, 1.0) \n",
    "plt.show()"
   ]
  },
  {
   "cell_type": "code",
   "execution_count": 96,
   "metadata": {},
   "outputs": [
    {
     "data": {
      "image/png": "[encoded data removed]",
      "text/plain": [
       "<Figure size 1000x500 with 1 Axes>"
      ]
     },
     "metadata": {},
     "output_type": "display_data"
    }
   ],
   "source": [
    "plt.figure(figsize=(10, 5))\n",
    "m = range(25)\n",
    "plt.bar(m, precision, color='green')\n",
    "plt.xlabel('Model number')\n",
    "plt.ylabel('Mean Scores')\n",
    "plt.title('Precision Scores for each model')\n",
    "plt.ylim(0.60, 0.80) \n",
    "plt.show()"
   ]
  },
  {
   "cell_type": "code",
   "execution_count": 95,
   "metadata": {},
   "outputs": [
    {
     "data": {
      "image/png": "[encoded data removed]",
      "text/plain": [
       "<Figure size 1000x500 with 1 Axes>"
      ]
     },
     "metadata": {},
     "output_type": "display_data"
    }
   ],
   "source": [
    "plt.figure(figsize=(10, 5))\n",
    "m = range(25)\n",
    "plt.bar(m, F1, color='green')\n",
    "plt.xlabel('Model number')\n",
    "plt.ylabel('Mean Scores')\n",
    "plt.title('F1 Scores for each model')\n",
    "plt.ylim(0.55, 0.8) \n",
    "plt.show()"
   ]
  },
  {
   "cell_type": "code",
   "execution_count": 56,
   "metadata": {},
   "outputs": [
    {
     "data": {
      "image/png": "[encoded data removed]",
      "text/plain": [
       "<Figure size 640x480 with 1 Axes>"
      ]
     },
     "metadata": {},
     "output_type": "display_data"
    }
   ],
   "source": [
    "plt.subplot(1,2,2)\n",
    "x=['Binary Accuracy','Recall','F1_Score','precision']\n",
    "y=[np.mean(ahh[0]),np.mean(ahh[1]),np.mean(ahh[2]),np.mean(ahh[3])]\n",
    "plt.bar(x[0],y[0], label='Binary Accuracy')\n",
    "plt.bar(x[1],y[1],label='Recall')\n",
    "plt.bar(x[2],y[2],label='F1_Score')\n",
    "plt.bar(x[3],y[3],label='precision')\n",
    "plt.show()\n",
    "ax.set_axis_off()"
   ]
  }
 ],
 "metadata": {
  "kernelspec": {
   "display_name": ".venv",
   "language": "python",
   "name": "python3"
  },
  "language_info": {
   "codemirror_mode": {
    "name": "ipython",
    "version": 3
   },
   "file_extension": ".py",
   "mimetype": "text/x-python",
   "name": "python",
   "nbconvert_exporter": "python",
   "pygments_lexer": "ipython3",
   "version": "3.11.7"
  }
 },
 "nbformat": 4,
 "nbformat_minor": 2
}
